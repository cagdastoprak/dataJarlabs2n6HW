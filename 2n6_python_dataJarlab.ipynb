{
  "nbformat": 4,
  "nbformat_minor": 0,
  "metadata": {
    "colab": {
      "name": "2n6 python dataJarlab.ipynb",
      "provenance": []
    },
    "kernelspec": {
      "name": "python3",
      "display_name": "Python 3"
    }
  },
  "cells": [
    {
      "cell_type": "code",
      "metadata": {
        "id": "p6nao-ULUcg3",
        "colab_type": "code",
        "colab": {}
      },
      "source": [
        "import numpy as np"
      ],
      "execution_count": 0,
      "outputs": []
    },
    {
      "cell_type": "code",
      "metadata": {
        "id": "6QcTfjsJUwKi",
        "colab_type": "code",
        "colab": {
          "base_uri": "https://localhost:8080/",
          "height": 187
        },
        "outputId": "cc0bb843-4090-4c49-a6c9-bbe6b8414704"
      },
      "source": [
        "print(np.arange(1,101).reshape(10,10)*2)#1 den 100 tüm sayıları oluşturup 2 ile çarptım böylece çift olanları koymuş olduk."
      ],
      "execution_count": 5,
      "outputs": [
        {
          "output_type": "stream",
          "text": [
            "[[  2   4   6   8  10  12  14  16  18  20]\n",
            " [ 22  24  26  28  30  32  34  36  38  40]\n",
            " [ 42  44  46  48  50  52  54  56  58  60]\n",
            " [ 62  64  66  68  70  72  74  76  78  80]\n",
            " [ 82  84  86  88  90  92  94  96  98 100]\n",
            " [102 104 106 108 110 112 114 116 118 120]\n",
            " [122 124 126 128 130 132 134 136 138 140]\n",
            " [142 144 146 148 150 152 154 156 158 160]\n",
            " [162 164 166 168 170 172 174 176 178 180]\n",
            " [182 184 186 188 190 192 194 196 198 200]]\n"
          ],
          "name": "stdout"
        }
      ]
    },
    {
      "cell_type": "code",
      "metadata": {
        "id": "hHmvDoNwVUCf",
        "colab_type": "code",
        "colab": {
          "base_uri": "https://localhost:8080/",
          "height": 73
        },
        "outputId": "2720260f-a0a7-4a09-803b-dc9847c81ffa"
      },
      "source": [
        "girdi=input('iki sayı gir, bak ne yapıcam? : :D :') # Çağırdığım array elemanlarında işlem yapıyorum ama sonra o elemanlar ı eski liste de modifiye edemiyorum\n",
        "girdiListe=list(girdi)\n",
        "print(girdiListe)\n",
        "a=int(girdiListe[0])\n",
        "b=int(girdiListe[1])\n",
        "ones=np.ones((a,b))\n",
        "print('ones :',ones)\n",
        "zeros=np.zeros((a-2,b-2))\n",
        "print('zeros :',zeros)\n",
        "speculatedOnes=ones[1:a-1,1:b-1]*0\n",
        "print('specones :',speculatedOnes)\n",
        "print(ones)"
      ],
      "execution_count": 0,
      "outputs": [
        {
          "output_type": "stream",
          "text": [
            "ERROR! Session/line number was not unique in database. History logging moved to new session 60\n"
          ],
          "name": "stdout"
        }
      ]
    }
  ]
}